{
  "nbformat": 4,
  "nbformat_minor": 0,
  "metadata": {
    "colab": {
      "provenance": [],
      "authorship_tag": "ABX9TyPPENe+8NHpfsnwYldJH8ms",
      "include_colab_link": true
    },
    "kernelspec": {
      "name": "python3",
      "display_name": "Python 3"
    },
    "language_info": {
      "name": "python"
    }
  },
  "cells": [
    {
      "cell_type": "markdown",
      "metadata": {
        "id": "view-in-github",
        "colab_type": "text"
      },
      "source": [
        "<a href=\"https://colab.research.google.com/github/iagoheadmaster/My_First_Chatbot/blob/main/_imers_o_ia_c_digo_aula_04_iago.ipynb\" target=\"_parent\"><img src=\"https://colab.research.google.com/assets/colab-badge.svg\" alt=\"Open In Colab\"/></a>"
      ]
    },
    {
      "cell_type": "markdown",
      "source": [
        "Instalando o SDK do Google"
      ],
      "metadata": {
        "id": "sDXQIuYXQ8Dy"
      }
    },
    {
      "cell_type": "code",
      "execution_count": null,
      "metadata": {
        "id": "ghAcsS0EQ4Iv"
      },
      "outputs": [],
      "source": [
        "!pip install -q -U google-generativeai"
      ]
    },
    {
      "cell_type": "code",
      "source": [
        "import google.generativeai as genai\n",
        "\n",
        "GOOGLE_API_KEY='secret_key'\n",
        "genai.configure(api_key=GOOGLE_API_KEY)"
      ],
      "metadata": {
        "id": "vfJocjZbROBI"
      },
      "execution_count": null,
      "outputs": []
    },
    {
      "cell_type": "markdown",
      "source": [
        "Listar os modelos disponíveis"
      ],
      "metadata": {
        "id": "p1phhvo_Rc9W"
      }
    },
    {
      "cell_type": "code",
      "source": [
        "for m in genai.list_models():\n",
        "  if 'generateContent' in m.supported_generation_methods:\n",
        "    print(m.name)"
      ],
      "metadata": {
        "colab": {
          "base_uri": "https://localhost:8080/",
          "height": 139
        },
        "id": "ZvWBXtkKRTzi",
        "outputId": "71ee844e-5e08-4e82-b5d6-517667c0f9b6"
      },
      "execution_count": null,
      "outputs": [
        {
          "output_type": "stream",
          "name": "stdout",
          "text": [
            "models/gemini-1.0-pro\n",
            "models/gemini-1.0-pro-001\n",
            "models/gemini-1.0-pro-latest\n",
            "models/gemini-1.0-pro-vision-latest\n",
            "models/gemini-1.5-pro-latest\n",
            "models/gemini-pro\n",
            "models/gemini-pro-vision\n"
          ]
        }
      ]
    },
    {
      "cell_type": "code",
      "source": [
        "generation_config = {\n",
        "  \"candidate_count\": 1,\n",
        "  \"temperature\": 0.5,\n",
        "}"
      ],
      "metadata": {
        "id": "e9Snh3fpYu0s"
      },
      "execution_count": null,
      "outputs": []
    },
    {
      "cell_type": "code",
      "source": [
        "safety_settings={\n",
        "    'HATE': 'BLOCK_NONE',\n",
        "    'HARASSMENT': 'BLOCK_NONE',\n",
        "    'SEXUAL' : 'BLOCK_NONE',\n",
        "    'DANGEROUS' : 'BLOCK_NONE'\n",
        "    }"
      ],
      "metadata": {
        "id": "uOgpuoa6Y5AT"
      },
      "execution_count": null,
      "outputs": []
    },
    {
      "cell_type": "markdown",
      "source": [
        "Inicializando  o modelo"
      ],
      "metadata": {
        "id": "ZXTHt0BuZlP5"
      }
    },
    {
      "cell_type": "code",
      "source": [
        "model = genai.GenerativeModel(model_name = 'gemini-1.0-pro',\n",
        "                              generation_config = generation_config,\n",
        "                              safety_settings = safety_settings)"
      ],
      "metadata": {
        "id": "VGlkOmgaZoO9"
      },
      "execution_count": null,
      "outputs": []
    },
    {
      "cell_type": "code",
      "source": [
        "response = model.generate_content(\"vamos aprender conteúdo sobre IA. Me dê sugestões.\")\n",
        "print(response.text)"
      ],
      "metadata": {
        "colab": {
          "base_uri": "https://localhost:8080/",
          "height": 729
        },
        "id": "kQLfpJZPaI9R",
        "outputId": "8f26c039-6cbf-4330-ba01-dc1841d1beed"
      },
      "execution_count": null,
      "outputs": [
        {
          "output_type": "stream",
          "name": "stdout",
          "text": [
            "**Conceitos Fundamentais**\n",
            "\n",
            "* O que é Inteligência Artificial (IA)?\n",
            "* Tipos de IA: Máquina de Aprendizado, Aprendizado Profundo, Processamento de Linguagem Natural\n",
            "* Algoritmos de IA: Regressão, Classificação, Agrupamento\n",
            "* Dados em IA: Tipos de dados, Preparação de dados\n",
            "\n",
            "**Aplicações da IA**\n",
            "\n",
            "* Automação de processos\n",
            "* Análise preditiva\n",
            "* Reconhecimento de imagem e fala\n",
            "* Veículos autônomos\n",
            "* Assistentes virtuais\n",
            "\n",
            "**Ética e Implicações Sociais da IA**\n",
            "\n",
            "* Viés e discriminação em IA\n",
            "* Perda de empregos por automação\n",
            "* Privacidade e segurança de dados\n",
            "* Regulamentação e governança da IA\n",
            "\n",
            "**Aprendizado de Máquina**\n",
            "\n",
            "* Tipos de aprendizado de máquina: Supervisionado, Não supervisionado, Reforço\n",
            "* Modelos de aprendizado de máquina: Árvores de decisão, Redes neurais, Máquinas de vetores de suporte\n",
            "* Avaliação de modelos de aprendizado de máquina: Métricas, Validação cruzada\n",
            "\n",
            "**Aprendizado Profundo**\n",
            "\n",
            "* O que é aprendizado profundo?\n",
            "* Arquiteturas de redes neurais: Redes convolucionais, Redes recorrentes\n",
            "* Treinamento de redes neurais: Retropropagação, Otimização\n",
            "* Aplicações do aprendizado profundo: Visão computacional, Processamento de linguagem natural\n",
            "\n",
            "**Recursos de Aprendizado**\n",
            "\n",
            "* Cursos online: Coursera, edX, Udacity\n",
            "* Livros: \"Inteligência Artificial: Uma Abordagem Moderna\" (Stuart Russell e Peter Norvig), \"Aprendizado Profundo\" (Ian Goodfellow, Yoshua Bengio e Aaron Courville)\n",
            "* Comunidades online: Stack Overflow, Reddit\n",
            "* Conferências e workshops: NeurIPS, ICML, CVPR\n"
          ]
        }
      ]
    },
    {
      "cell_type": "code",
      "source": [
        "chat = model.start_chat(history=[])"
      ],
      "metadata": {
        "id": "HqeTNaRAarRJ"
      },
      "execution_count": null,
      "outputs": []
    },
    {
      "cell_type": "code",
      "source": [
        "prompt = input('Esperando prompt: ')\n",
        "\n",
        "while prompt !='fim':\n",
        "  response = chat.send_message(prompt)\n",
        "  print('Resposta: ',response.text, ' \\n')\n",
        "  prompt = input('Esperando prompt: ')"
      ],
      "metadata": {
        "colab": {
          "base_uri": "https://localhost:8080/",
          "height": 1000
        },
        "id": "ehu1wuuUbJ2z",
        "outputId": "eed66802-35f6-405e-d09b-348ea8cf0fdf"
      },
      "execution_count": null,
      "outputs": [
        {
          "output_type": "stream",
          "name": "stdout",
          "text": [
            "Esperando prompt: Sou vendedor de pacote de anúncios em um portal de anúncios de veículos. Meu cliente paga o valor de R$ 1.328,33 no pacote dele para publicar 40 anúncios, e hoje está com 48 publicados. Ele recebeu 173 leads no total. Me dê um panorama de como está a performance dele e o que tenho de oportunidade para rentabilizar ele na minha empresa.\n",
            "Resposta:  **Panorama da Performance:**\n",
            "\n",
            "* **Taxa de Utilização do Pacote:** 120% (excedendo o número de anúncios disponíveis)\n",
            "* **CPL (Custo por Lead):** R$ 7,68 (relativamente baixo)\n",
            "\n",
            "**Oportunidades de Rentabilização:**\n",
            "\n",
            "**1. Aumentar o Valor do Pacote:**\n",
            "\n",
            "* Sugira um aumento no número de anúncios disponíveis no pacote, o que permitirá que o cliente publique mais anúncios sem exceder o limite.\n",
            "* Ofereça pacotes adicionais com recursos premium, como anúncios em destaque ou maior visibilidade.\n",
            "\n",
            "**2. Otimizar o Desempenho do Anúncio:**\n",
            "\n",
            "* Trabalhe com o cliente para otimizar seus anúncios para melhorar o CTR (taxa de cliques) e o número de leads gerados.\n",
            "* Forneça orientação sobre o uso de palavras-chave relevantes, imagens de alta qualidade e textos de anúncio atraentes.\n",
            "\n",
            "**3. Oferecer Serviços Adicionais:**\n",
            "\n",
            "* Ofereça serviços complementares, como gerenciamento de campanhas ou geração de leads, para ajudar o cliente a obter melhores resultados com seus anúncios.\n",
            "* Forneça acesso a ferramentas de análise e relatórios para que o cliente possa monitorar o desempenho de seus anúncios e identificar áreas de melhoria.\n",
            "\n",
            "**4. Venda Cruzada e Upsell:**\n",
            "\n",
            "* Ofereça pacotes adicionais ou serviços relacionados que complementem o pacote de anúncios atual do cliente.\n",
            "* Por exemplo, você pode oferecer um pacote de marketing de mídia social ou um serviço de geração de leads por e-mail.\n",
            "\n",
            "**5. Fidelização do Cliente:**\n",
            "\n",
            "* Forneça excelente atendimento ao cliente e suporte contínuo para construir um relacionamento sólido com o cliente.\n",
            "* Ofereça descontos ou promoções especiais para clientes fiéis para incentivá-los a renovar seus pacotes ou adquirir serviços adicionais.  \n",
            "\n",
            "Esperando prompt: fale como posso saber qual é o melhor produto para indicar para o cliente, em que momento indicar destaques, mídia ou campanha de leads, ou outros.\n",
            "Resposta:  **Como identificar o melhor produto para indicar ao cliente:**\n",
            "\n",
            "* **Avalie as necessidades do cliente:** Determine os objetivos de negócios do cliente, público-alvo e orçamento.\n",
            "* **Compreenda os diferentes produtos:** Familiarize-se com os recursos, benefícios e limitações de cada produto.\n",
            "* **Combine as necessidades do cliente com os produtos:** Identifique o produto que melhor atende às necessidades específicas do cliente.\n",
            "\n",
            "**Quando indicar destaques, mídia ou campanha de leads:**\n",
            "\n",
            "**Destaques:**\n",
            "\n",
            "* Quando o cliente deseja aumentar a visibilidade de anúncios específicos.\n",
            "* Quando o cliente tem anúncios de alto desempenho que deseja destacar.\n",
            "* Quando o cliente deseja atingir um público mais amplo.\n",
            "\n",
            "**Mídia:**\n",
            "\n",
            "* Quando o cliente deseja construir reconhecimento da marca ou gerar demanda.\n",
            "* Quando o cliente deseja atingir um público mais amplo com conteúdo envolvente.\n",
            "* Quando o cliente deseja impulsionar o tráfego para seu site ou páginas de destino.\n",
            "\n",
            "**Campanha de leads:**\n",
            "\n",
            "* Quando o cliente deseja gerar leads qualificados.\n",
            "* Quando o cliente tem uma oferta ou conteúdo valioso para oferecer em troca das informações do lead.\n",
            "* Quando o cliente deseja construir um pipeline de leads para vendas futuras.\n",
            "\n",
            "**Outros produtos:**\n",
            "\n",
            "* **Gerenciamento de campanhas:** Quando o cliente precisa de ajuda para gerenciar e otimizar suas campanhas publicitárias.\n",
            "* **Análise e relatórios:** Quando o cliente deseja monitorar o desempenho de suas campanhas e identificar áreas de melhoria.\n",
            "* **Serviços criativos:** Quando o cliente precisa de ajuda para criar anúncios ou conteúdo envolvente.\n",
            "\n",
            "**Lembre-se:**\n",
            "\n",
            "* Sempre priorize as necessidades do cliente.\n",
            "* Recomendações personalizadas são mais eficazes.\n",
            "* Monitore o desempenho das campanhas e ajuste as recomendações conforme necessário.  \n",
            "\n"
          ]
        }
      ]
    },
    {
      "cell_type": "code",
      "source": [
        "#Melhorando a visualização\n",
        "#Código disponível em https://ai.google.dev/tutorials/python_quickstart#import_packages\n",
        "import textwrap\n",
        "from IPython.display import display\n",
        "from IPython.display import Markdown\n",
        "\n",
        "def to_markdown(text):\n",
        "  text = text.replace('•', '  *')\n",
        "  return Markdown(textwrap.indent(text, '> ', predicate=lambda _: True))\n",
        "\n",
        "#Imprimindo o histórico\n",
        "for message in chat.history:\n",
        "  display(to_markdown(f'**{message.role}**: {message.parts[0].text}'))\n",
        "  print('-------------------------------------------')"
      ],
      "metadata": {
        "id": "hAzoZjhQdU_d"
      },
      "execution_count": null,
      "outputs": []
    }
  ]
}