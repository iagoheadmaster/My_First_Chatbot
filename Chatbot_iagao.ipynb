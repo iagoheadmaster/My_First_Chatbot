{
  "nbformat": 4,
  "nbformat_minor": 0,
  "metadata": {
    "colab": {
      "provenance": [],
      "authorship_tag": "ABX9TyNW+rNJFd4/2vtOHuml1BtB",
      "include_colab_link": true
    },
    "kernelspec": {
      "name": "python3",
      "display_name": "Python 3"
    },
    "language_info": {
      "name": "python"
    }
  },
  "cells": [
    {
      "cell_type": "markdown",
      "metadata": {
        "id": "view-in-github",
        "colab_type": "text"
      },
      "source": [
        "<a href=\"https://colab.research.google.com/github/iagoheadmaster/My_First_Chatbot/blob/main/Chatbot_iagao.ipynb\" target=\"_parent\"><img src=\"https://colab.research.google.com/assets/colab-badge.svg\" alt=\"Open In Colab\"/></a>"
      ]
    },
    {
      "cell_type": "code",
      "execution_count": 1,
      "metadata": {
        "id": "t6E7jbZ60pNK"
      },
      "outputs": [],
      "source": [
        "!pip install -q -U google-generativeai"
      ]
    },
    {
      "cell_type": "code",
      "source": [
        "import google.generativeai as genai"
      ],
      "metadata": {
        "id": "mdLC_B5r0uXO"
      },
      "execution_count": 2,
      "outputs": []
    },
    {
      "cell_type": "code",
      "source": [
        "from google.colab import userdata\n",
        "\n",
        "GOOGLE_GEMINI_API_KEY = userdata.get('secret_key')\n",
        "\n",
        "genai.configure(api_key=GOOGLE_GEMINI_API_KEY)"
      ],
      "metadata": {
        "id": "NjcBnIOW0u3N"
      },
      "execution_count": 3,
      "outputs": []
    },
    {
      "cell_type": "code",
      "source": [
        "for m in genai.list_models():\n",
        "  if 'generateContent' in m.supported_generation_methods:\n",
        "    print(m.name)"
      ],
      "metadata": {
        "colab": {
          "base_uri": "https://localhost:8080/",
          "height": 225
        },
        "id": "ZtnIzS4602Uv",
        "outputId": "e8eaff41-dcef-4275-cb01-0a510e667119"
      },
      "execution_count": 4,
      "outputs": [
        {
          "output_type": "stream",
          "name": "stdout",
          "text": [
            "models/gemini-1.0-pro\n",
            "models/gemini-1.0-pro-001\n",
            "models/gemini-1.0-pro-latest\n",
            "models/gemini-1.0-pro-vision-latest\n",
            "models/gemini-1.5-flash\n",
            "models/gemini-1.5-flash-001\n",
            "models/gemini-1.5-flash-latest\n",
            "models/gemini-1.5-pro\n",
            "models/gemini-1.5-pro-001\n",
            "models/gemini-1.5-pro-latest\n",
            "models/gemini-pro\n",
            "models/gemini-pro-vision\n"
          ]
        }
      ]
    },
    {
      "cell_type": "code",
      "source": [
        "model = genai.GenerativeModel('gemini-1.5-pro-latest')"
      ],
      "metadata": {
        "id": "wxvx3hnq1T0R"
      },
      "execution_count": 5,
      "outputs": []
    },
    {
      "cell_type": "code",
      "source": [
        "chat = model.start_chat(history=[])\n",
        "\n",
        "prompt = input('Digite alguma coisa: ')\n",
        "\n",
        "while prompt != 'fim':\n",
        "  response = chat.send_message(prompt)\n",
        "  print(response.text)\n",
        "  prompt = input('Digite alguma coisa: ')"
      ],
      "metadata": {
        "colab": {
          "base_uri": "https://localhost:8080/",
          "height": 627
        },
        "id": "YMQXUfSl2DHk",
        "outputId": "7c0547d1-f808-47f8-ac97-fcb7687d4b52"
      },
      "execution_count": 6,
      "outputs": [
        {
          "name": "stdout",
          "output_type": "stream",
          "text": [
            "Digite alguma coisa: Haja como um executivo de vendas em uma empresa do setor de internet, cujo produto é pacote de anúncios de automóveis. Negocie uma venda com um cliente. O Cliente possui um estoque de 40 carros.\n",
            "##  Negociando um Pacote de Anúncios Automotivos \n",
            "\n",
            "**Executivo de Vendas:** Bom dia, [Nome do Cliente], meu nome é [Seu Nome] e sou executivo de vendas da [Nome da Empresa]. Entrei em contato hoje para apresentar nossos pacotes de anúncios online para concessionárias como a sua.\n",
            "\n",
            "**Cliente:** Bom dia, [Seu Nome]. Agradeço o contato, mas no momento não estamos investindo em publicidade.\n",
            "\n",
            "**Executivo de Vendas:** Entendo. Mas me permita perguntar, [Nome do Cliente], qual a sua maior dificuldade em relação à venda desses 40 carros em estoque? \n",
            "\n",
            "**Cliente:** Bem, o movimento tem sido fraco e a concorrência está acirrada. \n",
            "\n",
            "**Executivo de Vendas:** Exatamente! É por isso que nossos pacotes de anúncios podem ser a solução ideal para você. Imagine seus carros sendo vistos por milhares de potenciais compradores em sua região, que estão buscando exatamente o que você oferece! \n",
            "\n",
            "**Cliente:** Interessante, mas como funciona exatamente?\n",
            "\n",
            "**Executivo de Vendas:**  Nós trabalhamos com anúncios segmentados em plataformas como Google, Facebook e Instagram. Direcionamos seus anúncios para o público certo,  pessoas que estão buscando por carros como os do seu estoque: modelo, ano, faixa de preço, tudo personalizado!  Além disso, oferecemos relatórios detalhados para você acompanhar o desempenho da sua campanha em tempo real.\n",
            "\n",
            "**Cliente:** E quais os valores desses pacotes?\n",
            "\n",
            "**Executivo de Vendas:**  Temos diversas opções para atender às suas necessidades. Para um estoque de 40 carros, recomendo o pacote \"Alcance Total\", que garante alta visibilidade e gera um grande volume de leads qualificados. O investimento é de [Valor do Pacote] por mês, com contrato mínimo de [Duração do Contrato]. Mas, especialmente hoje, posso te oferecer um desconto de [Percentual de Desconto] no primeiro mês, como cortesia pela primeira parceria. \n",
            "\n",
            "**Cliente:**  [Percentual de Desconto] ainda é um investimento alto para nós no momento.\n",
            "\n",
            "**Executivo de Vendas:**  Entendo a sua preocupação. Mas pense no retorno que você terá!  Com o aumento na visibilidade dos seus anúncios, você poderá vender seus carros mais rapidamente, liberando espaço no estoque e, claro, aumentando seus lucros!  \n",
            "\n",
            "**Cliente:**  Preciso analisar com calma. Pode me enviar os detalhes por email?\n",
            "\n",
            "**Executivo de Vendas:**  Claro, sem problemas! Enviarei o detalhamento do pacote \"Alcance Total\", com o desconto especial que conversemos, além de alguns cases de sucesso de outras concessionárias que aumentaram significativamente suas vendas com nossos serviços. Tenho certeza que você se surpreenderá! \n",
            "\n",
            "**Cliente:**  Aguardo o email então. \n",
            "\n",
            "**Executivo de Vendas:**  Perfeito! Aguardo seu retorno ansiosamente para iniciarmos uma parceria de sucesso. Tenha um ótimo dia! \n",
            "\n",
            "Digite alguma coisa: fim\n"
          ]
        }
      ]
    }
  ]
}