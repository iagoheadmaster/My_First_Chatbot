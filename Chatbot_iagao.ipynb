{
  "nbformat": 4,
  "nbformat_minor": 0,
  "metadata": {
    "colab": {
      "provenance": [],
      "authorship_tag": "ABX9TyOcehY3uUpd42YSSypkBZCP",
      "include_colab_link": true
    },
    "kernelspec": {
      "name": "python3",
      "display_name": "Python 3"
    },
    "language_info": {
      "name": "python"
    }
  },
  "cells": [
    {
      "cell_type": "markdown",
      "metadata": {
        "id": "view-in-github",
        "colab_type": "text"
      },
      "source": [
        "<a href=\"https://colab.research.google.com/github/iagoheadmaster/My_First_Chatbot/blob/main/Chatbot_iagao.ipynb\" target=\"_parent\"><img src=\"https://colab.research.google.com/assets/colab-badge.svg\" alt=\"Open In Colab\"/></a>"
      ]
    },
    {
      "cell_type": "code",
      "execution_count": 1,
      "metadata": {
        "id": "t6E7jbZ60pNK"
      },
      "outputs": [],
      "source": [
        "!pip install -q -U google-generativeai"
      ]
    },
    {
      "cell_type": "code",
      "source": [
        "import google.generativeai as genai"
      ],
      "metadata": {
        "id": "mdLC_B5r0uXO"
      },
      "execution_count": 2,
      "outputs": []
    },
    {
      "cell_type": "code",
      "source": [
        "from google.colab import userdata\n",
        "\n",
        "GOOGLE_GEMINI_API_KEY = userdata.get('secret_key')\n",
        "\n",
        "genai.configure(api_key=GOOGLE_GEMINI_API_KEY)"
      ],
      "metadata": {
        "id": "NjcBnIOW0u3N"
      },
      "execution_count": 3,
      "outputs": []
    },
    {
      "cell_type": "code",
      "source": [
        "for m in genai.list_models():\n",
        "  if 'generateContent' in m.supported_generation_methods:\n",
        "    print(m.name)"
      ],
      "metadata": {
        "colab": {
          "base_uri": "https://localhost:8080/",
          "height": 225
        },
        "id": "ZtnIzS4602Uv",
        "outputId": "9758ebf3-2fe4-4cff-9cf6-0d2b168202c1"
      },
      "execution_count": 5,
      "outputs": [
        {
          "output_type": "stream",
          "name": "stdout",
          "text": [
            "models/gemini-1.0-pro\n",
            "models/gemini-1.0-pro-001\n",
            "models/gemini-1.0-pro-latest\n",
            "models/gemini-1.0-pro-vision-latest\n",
            "models/gemini-1.5-flash\n",
            "models/gemini-1.5-flash-001\n",
            "models/gemini-1.5-flash-latest\n",
            "models/gemini-1.5-pro\n",
            "models/gemini-1.5-pro-001\n",
            "models/gemini-1.5-pro-latest\n",
            "models/gemini-pro\n",
            "models/gemini-pro-vision\n"
          ]
        }
      ]
    },
    {
      "cell_type": "code",
      "source": [
        "model = genai.GenerativeModel('gemini-1.5-pro-latest')"
      ],
      "metadata": {
        "id": "wxvx3hnq1T0R"
      },
      "execution_count": 8,
      "outputs": []
    },
    {
      "cell_type": "code",
      "source": [
        "response = model.generate_content('quem criou os modelos de IA Gemini?')\n",
        "response.text"
      ],
      "metadata": {
        "colab": {
          "base_uri": "https://localhost:8080/",
          "height": 35
        },
        "id": "5n2L2PZt1o9H",
        "outputId": "02803bf7-c655-4489-c567-9431daf10132"
      },
      "execution_count": 14,
      "outputs": [
        {
          "output_type": "execute_result",
          "data": {
            "text/plain": [
              "'Os modelos Gemini de IA foram criados pelo **Google**. \\n'"
            ],
            "application/vnd.google.colaboratory.intrinsic+json": {
              "type": "string"
            }
          },
          "metadata": {},
          "execution_count": 14
        }
      ]
    },
    {
      "cell_type": "code",
      "source": [
        "chat = model.start_chat(history=[])\n",
        "\n",
        "prompt = input('Digite alguma coisa: ')\n",
        "\n",
        "while prompt != 'fim':\n",
        "  response = chat.send_message(prompt)\n",
        "  print(response.text)\n",
        "  prompt = input('Digite alguma coisa: ')"
      ],
      "metadata": {
        "colab": {
          "base_uri": "https://localhost:8080/",
          "height": 888
        },
        "id": "YMQXUfSl2DHk",
        "outputId": "223b7de2-ec78-4481-8288-8aae98c64147"
      },
      "execution_count": 17,
      "outputs": [
        {
          "name": "stdout",
          "output_type": "stream",
          "text": [
            "Digite alguma coisa: De que é feita a Terra?\n",
            "A Terra é composta por muitas camadas, como uma cebola! Essas camadas podem ser divididas em dois grupos principais: a composição química (em que pensamos no que as coisas são feitas) e as propriedades físicas (em que pensamos em como os materiais atuam). \n",
            "\n",
            "**Composição Química**\n",
            "\n",
            "* **Crosta:** Esta é a camada externa fina e rochosa na qual vivemos. É muito fina em comparação com as outras camadas, como a casca de uma maçã! A crosta é composta por rochas mais leves, como granito e basalto.\n",
            "* **Manto:** Abaixo da crosta está o manto, que é muito mais espesso e é feito de rocha mais densa e quente. Ele não é totalmente sólido - ele se move como uma pasta muito espessa ao longo de longos períodos de tempo.\n",
            "* **Núcleo:** O núcleo é a camada mais interna da Terra, e é dividido em duas partes:\n",
            "    * **Núcleo externo:** Esta camada é feita principalmente de ferro líquido e níquel. É tão quente que esses metais estão constantemente se movendo e fluindo, o que na verdade cria o campo magnético da Terra!\n",
            "    * **Núcleo interno:** Apesar de ser ainda mais quente que o núcleo externo, o núcleo interno é realmente sólido devido à imensa pressão do centro da Terra. Ele também é feito principalmente de ferro e níquel.\n",
            "\n",
            "**Propriedades Físicas**\n",
            "\n",
            "* **Litosfera:** Esta camada inclui a crosta e a parte superior rígida do manto. É a parte sólida e rochosa da Terra que se divide em placas tectônicas.\n",
            "* **Astenosfera:** Esta camada está localizada abaixo da litosfera, ainda dentro do manto. É feita de rocha sólida, mas se comporta como um sólido viscoso, movendo-se e fluindo lentamente ao longo do tempo. As placas tectônicas \"flutuam\" sobre a astenosfera.\n",
            "* **Mesosfera:** Esta camada constitui a maior parte do manto e é mais forte que a astenosfera, embora ainda esteja muito quente e sob imensa pressão.\n",
            "* **Núcleo externo:** Como mencionado acima, esta camada é líquida devido ao calor extremo.\n",
            "* **Núcleo interno:** Esta camada é sólida devido à pressão intensa, apesar das temperaturas extremamente altas. \n",
            "\n",
            "Então, embora geralmente pensemos na Terra como sendo feita de terra e rocha, na verdade é muito mais complexa do que isso! A interação de todas essas diferentes camadas, tanto em termos de sua composição quanto de seu comportamento físico, é o que torna nosso planeta tão dinâmico e único.\n",
            "\n",
            "Digite alguma coisa: E o sol?\n",
            "O Sol é uma gigantesca bola de plasma incandescente, bem diferente da Terra sólida e rochosa. Ele não possui as mesmas camadas distintas como o nosso planeta, mas sim diferentes zonas com características específicas. Aqui vai um resumo:\n",
            "\n",
            "**Composição:**\n",
            "\n",
            "* **Hidrogênio (~74%):** O principal combustível do Sol. Ele é continuamente convertido em Hélio no núcleo através da fusão nuclear, liberando energia nesse processo.\n",
            "* **Hélio (~24%):**  Produzido pela fusão do hidrogênio, o hélio se acumula no núcleo do Sol.\n",
            "* **Elementos mais pesados (~2%):**  Em menor quantidade, encontramos oxigênio, carbono, neon, ferro, entre outros elementos. Apesar de sua pequena proporção, esses elementos são cruciais para a formação de planetas e vida como a conhecemos.\n",
            "\n",
            "**Estrutura:**\n",
            "\n",
            "O Sol é dividido em diferentes zonas, com base em como a energia é gerada e transportada:\n",
            "\n",
            "* **Núcleo:**  A \"fornalha\" do Sol, onde a fusão nuclear ocorre. A temperatura e pressão extremas permitem que os átomos de hidrogênio se fundam, formando hélio e liberando uma enorme quantidade de energia.\n",
            "* **Zona Radiativa:** A energia gerada no núcleo viaja através desta zona na forma de fótons. Os fótons são constantemente absorvidos e reemitidos pelas partículas presentes, levando milhares de anos para atravessar essa zona.\n",
            "* **Zona Convectiva:** Nesta zona, a energia é transportada por convecção, um processo similar ao que ocorre em uma panela de água fervente. O plasma quente sobe à superfície, enquanto o plasma mais frio desce para ser aquecido.\n",
            "* **Fotosfera:** A superfície visível do Sol. É nesta camada que vemos as manchas solares, regiões mais frias e escuras na fotosfera.\n",
            "* **Cromostera:** Uma camada fina e irregular acima da fotosfera, visível durante eclipses solares totais. As proeminências solares, grandes explosões de plasma, se originam nesta zona.\n",
            "* **Coroa:** A atmosfera externa do Sol, extremamente quente e rarefeita. Estende-se por milhões de quilômetros e é visível durante eclipses solares totais. O vento solar, um fluxo constante de partículas carregadas, se origina na coroa.\n",
            "\n",
            "Em resumo, o Sol é uma gigantesca esfera de plasma em constante atividade, alimentada pela fusão nuclear no seu núcleo. Sua energia é essencial para a vida na Terra, mas também apresenta desafios com suas explosões e tempestades solares.\n",
            "\n",
            "Digite alguma coisa: Fim\n",
            "Tudo bem! Espero que as informações sobre a Terra e o Sol tenham sido úteis. \n",
            "\n",
            "Se tiver mais alguma pergunta no futuro, mesmo sobre outros assuntos, pode me perguntar. Terei prazer em ajudar! \n",
            "\n",
            "Digite alguma coisa: fim\n"
          ]
        }
      ]
    }
  ]
}